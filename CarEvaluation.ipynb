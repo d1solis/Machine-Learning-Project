{
 "cells": [
  {
   "cell_type": "markdown",
   "metadata": {},
   "source": [
    "# **Car Evaluation Dataset**\n",
    "\n",
    "Source of dataset: https://archive.ics.uci.edu/dataset/19/car+evaluation"
   ]
  },
  {
   "cell_type": "markdown",
   "metadata": {},
   "source": [
    "# 1. Setup:"
   ]
  },
  {
   "cell_type": "code",
   "execution_count": null,
   "metadata": {},
   "outputs": [],
   "source": [
    "import seaborn as sns\n",
    "\n",
    "import matplotlib as mpl\n",
    "import matplotlib.pyplot as plt\n",
    "\n",
    "import pandas as pd\n",
    "import numpy as np\n",
    "\n",
    "from sklearn.svm import SVC\n",
    "from sklearn.neighbors import KNeighborsClassifier\n",
    "from sklearn.tree import DecisionTreeClassifier\n",
    "from sklearn.metrics import accuracy_score, confusion_matrix\n",
    "from sklearn.model_selection import train_test_split, cross_val_score, learning_curve\n",
    "from sklearn.preprocessing import LabelEncoder\n",
    "from sklearn import datasets"
   ]
  },
  {
   "cell_type": "markdown",
   "metadata": {},
   "source": [
    "# 2. Load the modified Car Evaluation dataset:"
   ]
  },
  {
   "cell_type": "code",
   "execution_count": null,
   "metadata": {},
   "outputs": [],
   "source": [
    "# Load the dataset\n",
    "car_data = pd.read_csv('Datasets/car_data.csv')\n",
    "\n",
    "# Assign proper column names\n",
    "car_data.columns = ['buying', 'maint', 'doors', 'persons', 'lug_boot', 'safety', 'class']\n",
    "\n",
    "# Initialize the LabelEncoder and encode the categorical columns\n",
    "label_encoder = LabelEncoder()\n",
    "for column in car_data.columns:\n",
    "    car_data[column] = label_encoder.fit_transform(car_data[column])\n",
    "\n",
    "# Display the first few rows of the encoded dataset\n",
    "car_data.head()\n",
    "\n",
    "# Prepare features (X) and target (y)\n",
    "X_car = car_data.drop('class', axis=1)  # Features\n",
    "y_car = car_data['class']  # Target"
   ]
  },
  {
   "cell_type": "code",
   "execution_count": null,
   "metadata": {},
   "outputs": [],
   "source": [
    "# Define classifiers\n",
    "classifiers = {\n",
    "    'Linear SVM': SVC(kernel='linear'),\n",
    "    'KNN': KNeighborsClassifier(),\n",
    "    'Decision Tree': DecisionTreeClassifier()\n",
    "}\n",
    "\n",
    "# Define the partitions for training and testing\n",
    "partitions = [(0.2, 0.8), (0.5, 0.5), (0.8, 0.2)]\n",
    "\n",
    "# Store results for each classifier, partition, and metric\n",
    "results = {classifier_name: [] for classifier_name in classifiers}\n",
    "\n",
    "# Perform training, validation, and testing\n",
    "for classifier_name, classifier in classifiers.items():\n",
    "    for train_size, test_size in partitions:\n",
    "        # Split the data\n",
    "        X_train, X_test, y_train, y_test = train_test_split(X_car, y_car, train_size=train_size, test_size=test_size, random_state=42)\n",
    "        \n",
    "        # Train the classifier\n",
    "        classifier.fit(X_train, y_train)\n",
    "        \n",
    "        # Calculate accuracies\n",
    "        train_accuracy = accuracy_score(y_train, classifier.predict(X_train))\n",
    "        test_accuracy = accuracy_score(y_test, classifier.predict(X_test))\n",
    "        \n",
    "        # Cross-validation for validation accuracy\n",
    "        validation_accuracy = np.mean(cross_val_score(classifier, X_train, y_train, cv=5))\n",
    "        \n",
    "        # Store hyperparameters (if any)\n",
    "        if hasattr(classifier, 'get_params'):\n",
    "            hyperparameters = classifier.get_params()\n",
    "        else:\n",
    "            hyperparameters = \"Default\"\n",
    "        \n",
    "        # Store the results\n",
    "        results[classifier_name].append({\n",
    "            'Train Size': f\"{train_size*100}/{test_size*100}\",\n",
    "            'Training Accuracy': train_accuracy,\n",
    "            'Testing Accuracy': test_accuracy,\n",
    "            'Validation Accuracy': validation_accuracy,\n",
    "            'Hyperparameters': hyperparameters\n",
    "        })\n",
    "\n"
   ]
  },
  {
   "cell_type": "markdown",
   "metadata": {},
   "source": [
    "# 3. Display Classifer Results:"
   ]
  },
  {
   "cell_type": "code",
   "execution_count": null,
   "metadata": {},
   "outputs": [],
   "source": [
    "# Display results for each classifier\n",
    "for classifier_name, classifier_results in results.items():\n",
    "    print(f\"\\n{classifier_name} Results:\")\n",
    "    for result in classifier_results:\n",
    "        print(f\"Split: {result['Train Size']}\")\n",
    "        print(f\"  Training Accuracy: {result['Training Accuracy']:.4f}\")\n",
    "        print(f\"  Testing Accuracy: {result['Testing Accuracy']:.4f}\")\n",
    "        print(f\"  Validation Accuracy: {result['Validation Accuracy']:.4f}\")\n",
    "        print(f\"  Hyperparameters: {result['Hyperparameters']}\\n\")\n"
   ]
  },
  {
   "cell_type": "code",
   "execution_count": null,
   "metadata": {},
   "outputs": [],
   "source": [
    "# Visualize accuracy results with bar charts\n",
    "for classifier_name, classifier_results in results.items():\n",
    "    train_accuracies = [result['Training Accuracy'] for result in classifier_results]\n",
    "    test_accuracies = [result['Testing Accuracy'] for result in classifier_results]\n",
    "    validation_accuracies = [result['Validation Accuracy'] for result in classifier_results]\n",
    "    \n",
    "    splits = [result['Train Size'] for result in classifier_results]\n",
    "    \n",
    "    # Create a bar chart for each classifier\n",
    "    bar_width = 0.2\n",
    "    index = np.arange(len(splits))\n",
    "\n",
    "    plt.bar(index, train_accuracies, bar_width, label='Training Accuracy')\n",
    "    plt.bar(index + bar_width, test_accuracies, bar_width, label='Testing Accuracy')\n",
    "    plt.bar(index + 2*bar_width, validation_accuracies, bar_width, label='Validation Accuracy')\n",
    "\n",
    "    plt.xlabel('Data Splits')\n",
    "    plt.ylabel('Accuracy')\n",
    "    plt.title(f'{classifier_name} Accuracies')\n",
    "    plt.xticks(index + bar_width, splits)\n",
    "    plt.legend()\n",
    "    plt.show()\n"
   ]
  }
 ],
 "metadata": {
  "kernelspec": {
   "display_name": "base",
   "language": "python",
   "name": "python3"
  },
  "language_info": {
   "codemirror_mode": {
    "name": "ipython",
    "version": 3
   },
   "file_extension": ".py",
   "mimetype": "text/x-python",
   "name": "python",
   "nbconvert_exporter": "python",
   "pygments_lexer": "ipython3",
   "version": "3.10.9"
  }
 },
 "nbformat": 4,
 "nbformat_minor": 2
}
